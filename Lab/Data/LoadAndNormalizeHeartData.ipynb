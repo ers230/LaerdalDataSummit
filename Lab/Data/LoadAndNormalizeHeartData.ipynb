{
 "cells": [
  {
   "cell_type": "markdown",
   "metadata": {},
   "source": [
    "# Prepare a Clinical dataset\n",
    "#### https://archive.ics.uci.edu/ml/datasets/heart+disease"
   ]
  },
  {
   "cell_type": "raw",
   "metadata": {},
   "source": [
    "This database contains 13 attributes (which have been extracted from\n",
    "a larger set of 75)       \n",
    "  \n",
    "\n",
    "Attribute Information:\n",
    "------------------------\n",
    "      -- 1. age       \n",
    "      -- 2. sex       \n",
    "      -- 3. chest pain type  (4 values)       \n",
    "      -- 4. resting blood pressure  \n",
    "      -- 5. serum cholestoral in mg/dl      \n",
    "      -- 6. fasting blood sugar > 120 mg/dl       \n",
    "      -- 7. resting electrocardiographic results  (values 0,1,2) \n",
    "      -- 8. maximum heart rate achieved  \n",
    "      -- 9. exercise induced angina    \n",
    "      -- 10. oldpeak = ST depression induced by exercise relative to rest   \n",
    "      -- 11. the slope of the peak exercise ST segment     \n",
    "      -- 12. number of major vessels (0-3) colored by flourosopy        \n",
    "      -- 13.  thal: 3 = normal; 6 = fixed defect; 7 = reversable defect     \n",
    "\n",
    "Attributes types\n",
    "-----------------\n",
    "\n",
    "Real: 1,4,5,8,10,12\n",
    "Ordered:11,\n",
    "Binary: 2,6,9\n",
    "Nominal:7,3,13\n",
    "\n",
    "Variable to be predicted\n",
    "------------------------\n",
    "Absence (1) or presence (2) of heart disease\n",
    "\n",
    "Cost Matrix\n",
    "\n",
    "\t abse  pres\n",
    "absence\t  0\t1\n",
    "presence  5\t0\n",
    "\n",
    "where the rows represent the true values and the columns the predicted.\n",
    "\n",
    "No missing values.\n",
    "\n",
    "270 observations\n"
   ]
  },
  {
   "cell_type": "markdown",
   "metadata": {},
   "source": [
    "## Download the Data"
   ]
  },
  {
   "cell_type": "code",
   "execution_count": null,
   "metadata": {},
   "outputs": [],
   "source": [
    "import pandas as pd\n",
    "\n",
    "url = \"http://archive.ics.uci.edu/ml/machine-learning-databases/statlog/heart/heart.dat\"\n",
    "\n",
    "cols = ['age','sex','chestpain','restBP','chol','sugar','ecg',\n",
    "        'maxhr','angina','dep','exercise','fluor','thal','diagnosis']\n",
    "\n",
    "table = pd.read_csv(url, sep='\\s+', names=cols)\n",
    "table.describe()"
   ]
  },
  {
   "cell_type": "markdown",
   "metadata": {},
   "source": [
    "## Store non-binary categories as multiple columns (hot encoding)"
   ]
  },
  {
   "cell_type": "code",
   "execution_count": null,
   "metadata": {},
   "outputs": [],
   "source": [
    "diagnosis = table['diagnosis']\n",
    "diagnosis = diagnosis[:] -1\n",
    "features = table.drop(columns=\"diagnosis\")\n",
    "\n",
    "nominals = ['chestpain','ecg','thal']\n",
    "features_hot =  pd.get_dummies(features, columns=nominals)\n",
    "features_hot.describe()"
   ]
  },
  {
   "cell_type": "markdown",
   "metadata": {},
   "source": [
    "## Normalize the data"
   ]
  },
  {
   "cell_type": "code",
   "execution_count": null,
   "metadata": {},
   "outputs": [],
   "source": [
    "features_norm= (features_hot - features_hot.mean()) / features_hot.std()\n",
    "features_norm.describe()"
   ]
  },
  {
   "cell_type": "markdown",
   "metadata": {},
   "source": [
    "## Export separate tables with and without diagnosis"
   ]
  },
  {
   "cell_type": "code",
   "execution_count": null,
   "metadata": {},
   "outputs": [],
   "source": [
    "features_norm.to_csv('heart_features.csv', index=False)\n",
    "features_norm['diagnosis'] = diagnosis\n",
    "features_norm.to_csv('heart.csv', index=False)"
   ]
  }
 ],
 "metadata": {
  "kernelspec": {
   "display_name": "Python 3",
   "language": "python",
   "name": "python3"
  },
  "language_info": {
   "codemirror_mode": {
    "name": "ipython",
    "version": 3
   },
   "file_extension": ".py",
   "mimetype": "text/x-python",
   "name": "python",
   "nbconvert_exporter": "python",
   "pygments_lexer": "ipython3",
   "version": "3.7.4"
  }
 },
 "nbformat": 4,
 "nbformat_minor": 4
}
